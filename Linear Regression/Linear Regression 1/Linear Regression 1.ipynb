{
 "cells": [
  {
   "cell_type": "code",
   "execution_count": 2,
   "metadata": {},
   "outputs": [],
   "source": [
    "import numpy as np\n",
    "import pandas as pd\n",
    "import matplotlib.pyplot as plt"
   ]
  },
  {
   "cell_type": "code",
   "execution_count": 3,
   "metadata": {},
   "outputs": [],
   "source": [
    "dfx = pd.read_csv('./Training Data/Linear_X_Train.csv')\n",
    "dfy = pd.read_csv('./Training Data/Linear_Y_Train.csv')\n",
    "dfxtest = pd.read_csv('./Testing Data/Linear_X_Test.csv')"
   ]
  },
  {
   "cell_type": "code",
   "execution_count": 4,
   "metadata": {},
   "outputs": [
    {
     "data": {
      "text/plain": [
       "array([-0.28930742, -0.58880963,  1.02750749, ..., -0.30516366,\n",
       "        1.67583291, -0.49175724])"
      ]
     },
     "execution_count": 4,
     "metadata": {},
     "output_type": "execute_result"
    }
   ],
   "source": [
    "X_train = dfx.values.reshape((-1,))\n",
    "Y_train = dfy.values.reshape((-1,))\n",
    "X_test = dfxtest.values.reshape((-1,))\n",
    "X_train"
   ]
  },
  {
   "cell_type": "code",
   "execution_count": 5,
   "metadata": {},
   "outputs": [],
   "source": [
    "def h(x, theta):\n",
    "    return theta[0]*x + theta[1]\n",
    "\n",
    "def grad(X, Y, theta):\n",
    "    grad_ = np.zeros((2,))\n",
    "    m = X.shape[0]\n",
    "    for i in range(m):\n",
    "        hx = h(X[i], theta)\n",
    "        grad_[0] += (hx-Y[i])*X[i]\n",
    "        grad_[1] += (hx-Y[i])\n",
    "    return grad_\n",
    "\n",
    "def error(X, Y, theta):\n",
    "    err = 0\n",
    "    m = X.shape[0]\n",
    "    for i in range(m):\n",
    "        hx = h(X[i], theta)\n",
    "        err += (hx-Y[i])**2\n",
    "    return err\n",
    "\n",
    "def grad_dec(X, Y):\n",
    "    theta = np.array([0.0, 0.0])\n",
    "    err = []\n",
    "    for i in range(100):\n",
    "        gradient = grad(X, Y, theta)\n",
    "        theta = theta - 0.0001*gradient\n",
    "        err.append(error(X, Y, theta))\n",
    "        \n",
    "    return theta, err"
   ]
  },
  {
   "cell_type": "code",
   "execution_count": 6,
   "metadata": {},
   "outputs": [],
   "source": [
    "theta, err = grad_dec(X_train, Y_train)"
   ]
  },
  {
   "cell_type": "code",
   "execution_count": 7,
   "metadata": {},
   "outputs": [
    {
     "data": {
      "image/png": "[encoded data removed]",
      "text/plain": [
       "<Figure size 432x288 with 1 Axes>"
      ]
     },
     "metadata": {
      "needs_background": "light"
     },
     "output_type": "display_data"
    }
   ],
   "source": [
    "plt.scatter(X_train,Y_train,color = \"orange\", label='Training Data')\n",
    "plt.plot(X_test, h(X_test,theta), color = \"black\", label=\"Prediction\")\n",
    "plt.legend()\n",
    "plt.show()"
   ]
  },
  {
   "cell_type": "code",
   "execution_count": 8,
   "metadata": {},
   "outputs": [
    {
     "data": {
      "text/plain": [
       "[<matplotlib.lines.Line2D at 0x38add454f0>]"
      ]
     },
     "execution_count": 8,
     "metadata": {},
     "output_type": "execute_result"
    },
    {
     "data": {
      "image/png": "[encoded data removed]",
      "text/plain": [
       "<Figure size 432x288 with 1 Axes>"
      ]
     },
     "metadata": {
      "needs_background": "light"
     },
     "output_type": "display_data"
    }
   ],
   "source": [
    "plt.plot(err)"
   ]
  },
  {
   "cell_type": "code",
   "execution_count": null,
   "metadata": {},
   "outputs": [],
   "source": []
  }
 ],
 "metadata": {
  "kernelspec": {
   "display_name": "Python 3",
   "language": "python",
   "name": "python3"
  },
  "language_info": {
   "codemirror_mode": {
    "name": "ipython",
    "version": 3
   },
   "file_extension": ".py",
   "mimetype": "text/x-python",
   "name": "python",
   "nbconvert_exporter": "python",
   "pygments_lexer": "ipython3",
   "version": "3.8.3"
  }
 },
 "nbformat": 4,
 "nbformat_minor": 4
}
