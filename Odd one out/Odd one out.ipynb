{
 "cells": [
  {
   "cell_type": "code",
   "execution_count": 1,
   "metadata": {},
   "outputs": [],
   "source": [
    "from gensim.models import KeyedVectors\n",
    "import numpy as np"
   ]
  },
  {
   "cell_type": "code",
   "execution_count": 2,
   "metadata": {},
   "outputs": [],
   "source": [
    "word_vectors = KeyedVectors.load_word2vec_format('GoogleNews-vectors-negative300.bin', binary=True)"
   ]
  },
  {
   "cell_type": "code",
   "execution_count": 22,
   "metadata": {},
   "outputs": [],
   "source": [
    "def odd_one_out(words):\n",
    "    all_word_vectors = [word_vectors[w] for w in words]\n",
    "    avg_vector = np.mean(all_word_vectors, axis=0)\n",
    "    odd_one = None\n",
    "    min_similarity = 1.0 \n",
    "\n",
    "    for w in words:\n",
    "        sim = word_vectors[w].dot(avg_vector)/np.sqrt(word_vectors[w].dot(word_vectors[w])*avg_vector.dot(avg_vector))\n",
    "        if sim < min_similarity:\n",
    "            min_similarity = sim\n",
    "            odd_one = w\n",
    "\n",
    "    return odd_one"
   ]
  },
  {
   "cell_type": "code",
   "execution_count": 23,
   "metadata": {},
   "outputs": [
    {
     "name": "stdout",
     "output_type": "stream",
     "text": [
      "lion\n"
     ]
    }
   ],
   "source": [
    "input_1 = [\"cat\", \"dog\", \"rabbit\", \"cow\", \"lion\"]\n",
    "print(odd_one_out(input_1))"
   ]
  },
  {
   "cell_type": "code",
   "execution_count": 24,
   "metadata": {},
   "outputs": [],
   "source": [
    "import pandas as pd"
   ]
  },
  {
   "cell_type": "code",
   "execution_count": 25,
   "metadata": {},
   "outputs": [],
   "source": [
    "df = pd.read_csv('Test.csv')"
   ]
  },
  {
   "cell_type": "code",
   "execution_count": 26,
   "metadata": {},
   "outputs": [],
   "source": [
    "test = df.to_numpy()"
   ]
  },
  {
   "cell_type": "code",
   "execution_count": 27,
   "metadata": {},
   "outputs": [
    {
     "name": "stdout",
     "output_type": "stream",
     "text": [
      "['elephant' 'lion' 'tiger' 'goat' 'snake'] snake\n",
      "['man' 'policeman' 'fireman' 'teacher' 'postman'] teacher\n",
      "['plane' 'bird' 'rocket' 'balloon' 'cat'] cat\n",
      "['onion' 'celery' 'lettuce' 'pineapple' 'potato'] pineapple\n",
      "['India' 'football' 'hockey' 'cricket' 'swimming'] India\n",
      "['who' 'why' 'what' 'where' 'is'] is\n",
      "['on' 'in' 'over' 'their' 'was'] was\n",
      "['India' 'Australia' 'Japan' 'Russia' 'China'] Australia\n",
      "['Dollar' 'Rupees' 'Euros' 'Cents' 'Money'] Money\n",
      "['eat' 'sleep' 'drink' 'think' 'dance'] think\n",
      "['car' 'scooter' 'bike' 'bicycle' 'ship'] ship\n",
      "['Poland' 'Russia' 'England' 'Rome' 'Ukraine'] Rome\n",
      "['Lake' 'Sea' 'River' 'Pool' 'Pond'] Pool\n",
      "['Sun' 'Moon' 'Star' 'Mars' 'Egypt'] Egypt\n",
      "['fox' 'wolf' 'jackal' 'mouse' 'panther'] mouse\n",
      "['veil' 'turban' 'helmet' 'shirt' 'hat'] helmet\n",
      "['Physics' 'Chemistry' 'Geography' 'Botany' 'Universe'] Universe\n",
      "['Assassinate' 'Kill' 'Kidnap' 'Stab' 'Murder'] Kill\n",
      "['Hostel' 'Hotel' 'Inn' 'Club' 'Motel'] Club\n",
      "['Earth' 'Mars' 'Neptune' 'Pluto' 'Sun'] Sun\n"
     ]
    }
   ],
   "source": [
    "for i in test:\n",
    "    print(i, odd_one_out(i))"
   ]
  },
  {
   "cell_type": "code",
   "execution_count": null,
   "metadata": {},
   "outputs": [],
   "source": []
  }
 ],
 "metadata": {
  "kernelspec": {
   "display_name": "Python 3",
   "language": "python",
   "name": "python3"
  },
  "language_info": {
   "codemirror_mode": {
    "name": "ipython",
    "version": 3
   },
   "file_extension": ".py",
   "mimetype": "text/x-python",
   "name": "python",
   "nbconvert_exporter": "python",
   "pygments_lexer": "ipython3",
   "version": "3.8.3"
  }
 },
 "nbformat": 4,
 "nbformat_minor": 4
}
